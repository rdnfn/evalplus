{
 "cells": [
  {
   "cell_type": "markdown",
   "metadata": {},
   "source": [
    "# Manual HumanEval\n",
    "\n",
    "## 1. Run HumanEval(Plus) on pre-generated GPT-4 output"
   ]
  },
  {
   "cell_type": "code",
   "execution_count": null,
   "metadata": {},
   "outputs": [],
   "source": [
    "# Run eval plus evaluation on pre-generated GPT-4 outputs\n",
    "# Downloaded from \n",
    "# https://github.com/evalplus/evalplus/releases/download/v0.1.0/gpt-4_temp_0.0.zip\n",
    "# (File described in more detail in https://github.com/evalplus/evalplus/releases/tag/v0.1.0)\n",
    "\n",
    "! evalplus.evaluate --dataset humaneval --samples gpt-4_temp_0.0"
   ]
  },
  {
   "cell_type": "markdown",
   "metadata": {},
   "source": [
    "## 2. Select hard problems (unsolved by GPT-4)\n",
    "\n",
    "Note: testing indicated that `HumanEval/32` may not be easily solvable with the canonical solution, thus less interesting for manual investigation."
   ]
  },
  {
   "cell_type": "code",
   "execution_count": null,
   "metadata": {},
   "outputs": [],
   "source": [
    "# Load the results and find failed tests\n",
    "\n",
    "import pandas as pd\n",
    "\n",
    "GPT4_SAMPLES_DIR = \"gpt-4_temp_0.0\"\n",
    "\n",
    "# Read the results of the evaluation\n",
    "df = pd.read_json(f'{GPT4_SAMPLES_DIR}/eval_results.json')\n",
    "\n",
    "# Get unsuccessful tests\n",
    "filtered_df = df[df['eval'].apply(lambda x: x[\"base\"][0][0]!=\"success\")]\n",
    "failed_ids = sorted(filtered_df.index, key=lambda item: int(item.split(\"/\")[1]))\n",
    "failed_ids"
   ]
  },
  {
   "cell_type": "markdown",
   "metadata": {},
   "source": [
    "Notes on the hard tasks:\n",
    "- 32: Potential bug in unit tests (canonical solution does not appear to work either).\n",
    "- 68: Candidate, but fairly abstract\n",
    "- 74: Simple but very weirdly formulated\n",
    "- 75: Candidate, about prime numbers, requires a longer solution\n",
    "- 83: Bug in unit tests. This task is abstract but relatively easy to solve for humans, but canonical solution (and unit tests) appear to be incorrect. Should be 19 * (10 ** (n-2)) instead of 18 * (10 ** (n-2)). GPT-4 gets the correct solution, but shows as fail with unit tests. Thus I think this is a false negative.\n",
    "- 84: GPT-4 fails because of ambiguity of prompt: solution is sum of digits, then binary of that sum. GPT-4 does binary, then sum of binary digits.\n",
    "- 91: GPT-4 fails because it imports a (standard) module that isn't imported yet.\n",
    "- 93: STRONG CANDIDATE. GPT-4 forgets to also swap case when it's a vowel.\n"
   ]
  },
  {
   "cell_type": "markdown",
   "metadata": {},
   "source": [
    "## 3. Generate Task\n",
    "\n",
    "Generate prompt and solution for a given task"
   ]
  },
  {
   "cell_type": "code",
   "execution_count": null,
   "metadata": {},
   "outputs": [],
   "source": [
    "# for a given test case id create cannonical answer\n",
    "\n",
    "import evalplus.data\n",
    "\n",
    "TESTCASE_ID = 'HumanEval/93' # ADAPT THIS\n",
    "\n",
    "prompt = evalplus.data.get_human_eval_plus()[TESTCASE_ID][\"prompt\"]\n",
    "full_solution = prompt + evalplus.data.get_human_eval_plus()[TESTCASE_ID][\"canonical_solution\"]\n",
    "\n",
    "print(f\"PROMPT\\n\\n{prompt}\\n\\n------\\n\\nFULL SOLUTION\\n\\n{full_solution}\")"
   ]
  },
  {
   "cell_type": "markdown",
   "metadata": {},
   "source": [
    "## 4. Test solution\n",
    "\n",
    "We test the solution using the EvalPlus command line tools.\n"
   ]
  },
  {
   "cell_type": "code",
   "execution_count": null,
   "metadata": {},
   "outputs": [],
   "source": [
    "SOLUTION_TESTCASE_ID = TESTCASE_ID\n",
    "SOLUTION = \"\"\"\n",
    "def encode(message):\n",
    "    vowels = 'aeiouAEIOU'\n",
    "    encoded_message = ''\n",
    "    \n",
    "    for char in message:\n",
    "        if char.isalpha():\n",
    "            char = char.swapcase()\n",
    "            if char in vowels:\n",
    "                if char.islower():\n",
    "                    char = chr(((ord(char) - ord('a') + 2) % 26) + ord('a'))\n",
    "                else:\n",
    "                    char = chr(((ord(char) - ord('A') + 2) % 26) + ord('A'))\n",
    "        encoded_message += char\n",
    "    \n",
    "    return encoded_message\n",
    "\"\"\"\n",
    "#SOLUTION = full_solution"
   ]
  },
  {
   "cell_type": "code",
   "execution_count": null,
   "metadata": {},
   "outputs": [],
   "source": [
    "# To test solution we must have a full copy of model samples\n",
    "# To achieve this we just copy the existing GPT-4 samples\n",
    "# and switch out the new solution with the rest\n",
    "\n",
    "import shutil\n",
    "import uuid\n",
    "import os\n",
    "\n",
    "src = GPT4_SAMPLES_DIR\n",
    "random_suffix = str(uuid.uuid4())[:6]\n",
    "# Append the random UUID to the original directory name\n",
    "dst = f\"tmp_samples/{src}_{random_suffix}\"\n",
    "os.makedirs(dst + \"/\" + SOLUTION_TESTCASE_ID.replace('/','_'))\n",
    "\n",
    "# replace result\n",
    "solution_file = f\"{dst}/{SOLUTION_TESTCASE_ID.replace('/','_')}/0.py\"\n",
    "with open(solution_file, 'w') as file:\n",
    "    file.write(SOLUTION)\n",
    "\n",
    "os.environ[\"TEMP_SAMPLE_DIR\"] = dst\n"
   ]
  },
  {
   "cell_type": "code",
   "execution_count": null,
   "metadata": {},
   "outputs": [],
   "source": [
    "# Run eval on custom samples (this basically runs a bunch of unit tests)\n",
    "# Note this will run all tests just to verify one result\n",
    "! evalplus.evaluate --dataset humaneval --samples ${TEMP_SAMPLE_DIR}"
   ]
  },
  {
   "cell_type": "markdown",
   "metadata": {},
   "source": [
    "Example results for GPT-4 outputs without without any changes:\n",
    "\n",
    "```\n",
    "Base\n",
    "{'pass@1': 0.8841463414634146}\n",
    "Base + Extra\n",
    "{'pass@1': 0.7804878048780488}\n",
    "```"
   ]
  },
  {
   "cell_type": "code",
   "execution_count": null,
   "metadata": {},
   "outputs": [],
   "source": [
    "results_json_path = dst + \"/eval_results.json\"\n",
    "df_custom = pd.read_json(results_json_path)\n",
    "eval_result = df_custom[df_custom.index == SOLUTION_TESTCASE_ID][\"eval\"].iloc[0]\n",
    "passed_default_tests = dict(eval_result)['base'][0][0] == \"success\"\n",
    "passed_plus_tests = dict(eval_result)['plus'][0][0] == \"success\"\n",
    "print(f\"Passed default HumanEval unit tests: {passed_default_tests}\")\n",
    "print(f\"Passed default HumanEvalPlus specific unit tests: {passed_plus_tests}\")\n",
    "\n",
    "# clean up\n",
    "shutil.rmtree(dst)\n",
    "\n"
   ]
  },
  {
   "cell_type": "markdown",
   "metadata": {},
   "source": [
    "Done. You have succesfully tested your EvalPlus testcase."
   ]
  },
  {
   "cell_type": "code",
   "execution_count": null,
   "metadata": {},
   "outputs": [],
   "source": [
    "eval_result"
   ]
  },
  {
   "cell_type": "code",
   "execution_count": null,
   "metadata": {},
   "outputs": [],
   "source": [
    "def encode(message):\n",
    "    \"\"\"\n",
    "    Write a function that takes a message, and encodes in such a \n",
    "    way that it swaps case of all letters, replaces all vowels in \n",
    "    the message with the letter that appears 2 places ahead of that \n",
    "    vowel in the english alphabet. \n",
    "    Assume only letters. \n",
    "    \n",
    "    Examples:\n",
    "    >>> encode('test')\n",
    "    'TGST'\n",
    "    >>> encode('This is a message')\n",
    "    'tHKS KS C MGSSCGG'\n",
    "    \"\"\"\n",
    "\n",
    "\n",
    "    def switch_case(ch):\n",
    "        if ord(\"A\") <= ord(ch) <= ord(\"Z\"):\n",
    "            return chr(ord(ch) + 32)\n",
    "        elif ord(\"a\") <= ord(ch) <= ord(\"z\"):\n",
    "            return chr(ord(ch) - 32)\n",
    "        else:\n",
    "            return ch\n",
    "    \n",
    "    def vowel_change(ch):\n",
    "        return ch if ch not in \"aeiouAEIOU\" else chr(ord(ch) + 2)\n",
    "    \n",
    "    m = \"\".join(map(switch_case, message))\n",
    "    return \"\".join(map(vowel_change, m))\n",
    "\n"
   ]
  },
  {
   "cell_type": "code",
   "execution_count": null,
   "metadata": {},
   "outputs": [],
   "source": [
    "def encode(message):\n",
    "    \"\"\"\n",
    "    Write a function that takes a message, and encodes in such a \n",
    "    way that it swaps case of all letters, replaces all vowels in \n",
    "    the message with the letter that appears 2 places ahead of that \n",
    "    vowel in the english alphabet. \n",
    "    Assume only letters. \n",
    "    \n",
    "    Examples:\n",
    "    >>> encode('test')\n",
    "    'TGST'\n",
    "    >>> encode('This is a message')\n",
    "    'tHKS KS C MGSSCGG'\n",
    "    \"\"\"\n",
    "    vowels = 'aeiouAEIOU'\n",
    "    encoded_message = ''\n",
    "    \n",
    "    for char in message:\n",
    "        if char.isalpha():\n",
    "            char = char.swapcase()\n",
    "            if char in vowels:\n",
    "                if char.islower():\n",
    "                    char = chr(((ord(char) - ord('a') + 2) % 26) + ord('a'))\n",
    "                else:\n",
    "                    char = chr(((ord(char) - ord('A') + 2) % 26) + ord('A'))\n",
    "        encoded_message += char\n",
    "    \n",
    "    return encoded_message\n",
    "\n"
   ]
  },
  {
   "cell_type": "code",
   "execution_count": null,
   "metadata": {},
   "outputs": [],
   "source": [
    "encode('This is a message')"
   ]
  },
  {
   "cell_type": "code",
   "execution_count": null,
   "metadata": {},
   "outputs": [],
   "source": [
    " "
   ]
  }
 ],
 "metadata": {
  "kernelspec": {
   "display_name": "Python 3",
   "language": "python",
   "name": "python3"
  },
  "language_info": {
   "codemirror_mode": {
    "name": "ipython",
    "version": 3
   },
   "file_extension": ".py",
   "mimetype": "text/x-python",
   "name": "python",
   "nbconvert_exporter": "python",
   "pygments_lexer": "ipython3",
   "version": "3.10.13"
  }
 },
 "nbformat": 4,
 "nbformat_minor": 2
}
